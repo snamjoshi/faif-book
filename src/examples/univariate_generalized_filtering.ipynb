{
 "cells": [
  {
   "cell_type": "code",
   "execution_count": 1,
   "metadata": {},
   "outputs": [],
   "source": [
    "%load_ext autoreload\n",
    "%autoreload 2"
   ]
  },
  {
   "cell_type": "code",
   "execution_count": 2,
   "metadata": {},
   "outputs": [],
   "source": [
    "import matplotlib.pyplot as plt\n",
    "import matplotlib as mpl\n",
    "import numpy as np\n",
    "import os\n",
    "import sys\n",
    "\n",
    "module_path = os.path.abspath(os.path.join(os.pardir, os.pardir))\n",
    "if module_path not in sys.path:\n",
    "    sys.path.append(module_path)\n",
    "\n",
    "# from src.utils import create_agent, create_environment]\n",
    "from src.agents.generalized_filters import UnivariateGeneralizedFilter\n",
    "from src.environments.dynamic_environments import UnivariateDynamicEnvironment\n",
    "\n",
    "mpl.style.use(\"seaborn-deep\")"
   ]
  },
  {
   "cell_type": "code",
   "execution_count": 3,
   "metadata": {},
   "outputs": [],
   "source": [
    "# Generating functions\n",
    "def fe(x, theta_x=10):\n",
    "    return theta_x - x\n",
    "\n",
    "def ge(x, theta_y=3):\n",
    "    return x - theta_y\n",
    "\n",
    "env_params = {\n",
    "    \"fe\"          : fe,\n",
    "    \"ge\"          : ge,\n",
    "    \"x_star_init\" : 5,\n",
    "    \"dt\"          : 0.01,\n",
    "    \"bins\"        : 10,\n",
    "    \"seed\"        : 5927,\n",
    "    \"var_x_star\"  : 1e-4,\n",
    "    \"var_y_star\"  : 1e-4\n",
    "}\n",
    "\n",
    "env = UnivariateDynamicEnvironment(params=env_params)\n",
    "\n",
    "for t in range(env.T-1):\n",
    "    env.step(t)"
   ]
  },
  {
   "cell_type": "code",
   "execution_count": 4,
   "metadata": {},
   "outputs": [
    {
     "data": {
      "text/plain": [
       "<Figure size 432x288 with 0 Axes>"
      ]
     },
     "metadata": {},
     "output_type": "display_data"
    },
    {
     "data": {
      "image/png": "[encoded data removed]",
      "text/plain": [
       "<Figure size 360x288 with 1 Axes>"
      ]
     },
     "metadata": {},
     "output_type": "display_data"
    }
   ],
   "source": [
    "plt.style.use(\"seaborn-whitegrid\")\n",
    "fig = plt.figure()\n",
    "fig, ax = plt.subplots(1,1, facecolor=(1,1,1), figsize=(5,4))\n",
    "\n",
    "ax.plot(env.t, env.x_star, c=\"#FF83FA\", label=\"x^*\")\n",
    "ax.plot(env.t, env.y, c=\"#00BFFF\", label=\"y\")\n",
    "ax.axhline(y=10, lw=1, ls=\"--\", c=\"#424242\")\n",
    "\n",
    "# Plot labels\n",
    "ax.set_xlabel(\"Time\", fontsize=18)\n",
    "\n",
    "# Subplot legends\n",
    "ax.legend(frameon=True, fontsize=18)\n",
    "\n",
    "# Cosmetic changes and axes ranges\n",
    "ax.axes.grid(which=\"major\", axis=\"both\", c=\"#f2f2f2\")\n",
    "plt.setp(ax.spines.values(), color=\"black\", linewidth=0.5)\n",
    "ax.tick_params(\n",
    "    labelsize=14,\n",
    "    axis='both',          \n",
    "    which='major',      \n",
    "    bottom=True,\n",
    "    left=True,\n",
    "    color=\"black\",\n",
    "    width=0.5,\n",
    "    length=3)\n",
    "\n",
    "fig.tight_layout()"
   ]
  },
  {
   "cell_type": "code",
   "execution_count": 7,
   "metadata": {},
   "outputs": [],
   "source": [
    "# Agent's generating function for x\n",
    "def gm(mu_x):\n",
    "    return ge(mu_x)\n",
    "\n",
    "# Derivative of agent's generating function for y \n",
    "def dgm_dmu(mu_x):\n",
    "    return 1\n",
    "\n",
    "# Derivative of agent's generating function for mu_x \n",
    "def dfm_dmu(mu_x):\n",
    "    return -1\n",
    "\n",
    "# Agent's generating function for mu_x\n",
    "def fm(mu_x):\n",
    "    return fe(mu_x)\n",
    "\n",
    "agent_params = {\n",
    "    \"dt\"        : 0.01,\n",
    "    \"bins\"      : 10,\n",
    "    \"var_x\"     : 5,\n",
    "    \"var_y\"     : 0.02,\n",
    "    \"kappa\"     : 0.1,\n",
    "    \"mu_x_init\" : 15,\n",
    "    \"gm\"        : gm,\n",
    "    \"fm\"        : fm,\n",
    "    \"dgm_dmu\"   : dgm_dmu,\n",
    "    \"dfm_dmu\"   : dfm_dmu\n",
    "}\n",
    "\n",
    "agent = UnivariateGeneralizedFilter(y=env.y, params=agent_params)"
   ]
  },
  {
   "cell_type": "code",
   "execution_count": 9,
   "metadata": {},
   "outputs": [
    {
     "ename": "IndexError",
     "evalue": "arrays used as indices must be of integer (or boolean) type",
     "output_type": "error",
     "traceback": [
      "\u001b[0;31m---------------------------------------------------------------------------\u001b[0m",
      "\u001b[0;31mIndexError\u001b[0m                                Traceback (most recent call last)",
      "\u001b[0;32m/tmp/ipykernel_10784/1855843982.py\u001b[0m in \u001b[0;36m<module>\u001b[0;34m\u001b[0m\n\u001b[1;32m      1\u001b[0m \u001b[0;32mfor\u001b[0m \u001b[0mt\u001b[0m \u001b[0;32min\u001b[0m \u001b[0mrange\u001b[0m\u001b[0;34m(\u001b[0m\u001b[0menv\u001b[0m\u001b[0;34m.\u001b[0m\u001b[0mT\u001b[0m\u001b[0;34m-\u001b[0m\u001b[0;36m1\u001b[0m\u001b[0;34m)\u001b[0m\u001b[0;34m:\u001b[0m\u001b[0;34m\u001b[0m\u001b[0;34m\u001b[0m\u001b[0m\n\u001b[1;32m      2\u001b[0m     \u001b[0menv\u001b[0m\u001b[0;34m.\u001b[0m\u001b[0mstep\u001b[0m\u001b[0;34m(\u001b[0m\u001b[0mt\u001b[0m\u001b[0;34m)\u001b[0m\u001b[0;34m\u001b[0m\u001b[0;34m\u001b[0m\u001b[0m\n\u001b[0;32m----> 3\u001b[0;31m     \u001b[0magent\u001b[0m\u001b[0;34m.\u001b[0m\u001b[0mstep\u001b[0m\u001b[0;34m(\u001b[0m\u001b[0menv\u001b[0m\u001b[0;34m.\u001b[0m\u001b[0my\u001b[0m\u001b[0;34m,\u001b[0m \u001b[0mt\u001b[0m\u001b[0;34m)\u001b[0m\u001b[0;34m\u001b[0m\u001b[0;34m\u001b[0m\u001b[0m\n\u001b[0m",
      "\u001b[0;32m~/Documents/git_repos/faif-book/src/agents/generalized_filters.py\u001b[0m in \u001b[0;36mstep\u001b[0;34m(self, y, t)\u001b[0m\n\u001b[1;32m     66\u001b[0m \u001b[0;34m\u001b[0m\u001b[0m\n\u001b[1;32m     67\u001b[0m         \u001b[0;31m# Euler's method gradient flow on mu_x\u001b[0m\u001b[0;34m\u001b[0m\u001b[0;34m\u001b[0m\u001b[0m\n\u001b[0;32m---> 68\u001b[0;31m         self.mu_x[t+1] = euler_step(x=self.mu_x, \n\u001b[0m\u001b[1;32m     69\u001b[0m                                     \u001b[0mtransition_function\u001b[0m\u001b[0;34m=\u001b[0m\u001b[0mself\u001b[0m\u001b[0;34m.\u001b[0m\u001b[0m_flow\u001b[0m\u001b[0;34m,\u001b[0m\u001b[0;34m\u001b[0m\u001b[0;34m\u001b[0m\u001b[0m\n\u001b[1;32m     70\u001b[0m                                     t=self.t, dt=self.params.dt)\n",
      "\u001b[0;32m~/Documents/git_repos/faif-book/src/maths.py\u001b[0m in \u001b[0;36meuler_step\u001b[0;34m(x, transition_function, t, dt)\u001b[0m\n\u001b[1;32m     14\u001b[0m \u001b[0;34m\u001b[0m\u001b[0m\n\u001b[1;32m     15\u001b[0m \u001b[0;32mdef\u001b[0m \u001b[0meuler_step\u001b[0m\u001b[0;34m(\u001b[0m\u001b[0mx\u001b[0m\u001b[0;34m,\u001b[0m \u001b[0mtransition_function\u001b[0m\u001b[0;34m,\u001b[0m \u001b[0mt\u001b[0m\u001b[0;34m,\u001b[0m \u001b[0mdt\u001b[0m\u001b[0;34m)\u001b[0m\u001b[0;34m:\u001b[0m\u001b[0;34m\u001b[0m\u001b[0;34m\u001b[0m\u001b[0m\n\u001b[0;32m---> 16\u001b[0;31m     \u001b[0;32mreturn\u001b[0m \u001b[0mx\u001b[0m\u001b[0;34m[\u001b[0m\u001b[0mt\u001b[0m\u001b[0;34m]\u001b[0m \u001b[0;34m+\u001b[0m \u001b[0mdt\u001b[0m \u001b[0;34m*\u001b[0m \u001b[0mtransition_function\u001b[0m\u001b[0;34m(\u001b[0m\u001b[0mx\u001b[0m\u001b[0;34m[\u001b[0m\u001b[0mt\u001b[0m\u001b[0;34m]\u001b[0m\u001b[0;34m)\u001b[0m\u001b[0;34m\u001b[0m\u001b[0;34m\u001b[0m\u001b[0m\n\u001b[0m",
      "\u001b[0;31mIndexError\u001b[0m: arrays used as indices must be of integer (or boolean) type"
     ]
    }
   ],
   "source": [
    "for t in range(env.T-1):\n",
    "    env.step(t)\n",
    "    agent.step(env.y, t)"
   ]
  },
  {
   "cell_type": "code",
   "execution_count": 41,
   "metadata": {},
   "outputs": [
    {
     "ename": "SyntaxError",
     "evalue": "invalid syntax (145940358.py, line 19)",
     "output_type": "error",
     "traceback": [
      "\u001b[0;36m  File \u001b[0;32m\"/tmp/ipykernel_8285/145940358.py\"\u001b[0;36m, line \u001b[0;32m19\u001b[0m\n\u001b[0;31m    fig.supxlabel(, fontsize=18)\u001b[0m\n\u001b[0m                  ^\u001b[0m\n\u001b[0;31mSyntaxError\u001b[0m\u001b[0;31m:\u001b[0m invalid syntax\n"
     ]
    }
   ],
   "source": [
    "plt.style.use(\"seaborn-whitegrid\")\n",
    "fig = plt.figure()\n",
    "fig, axes = plt.subplots(1,3, facecolor=(1,1,1), figsize=(12,4))\n",
    "\n",
    "# Left plot\n",
    "axes[0].plot(env.t, env.x_star, c=\"#FF83FA\", label=\"x^*\")\n",
    "axes[0].plot(env.t, agent.mu_x, c=\"#68228B\", ls=\"--\", lw=1.5, label=\"mu_x\")\n",
    "axes[0].plot(env.t, env.y, c=\"#00BFFF\", label=\"y\")\n",
    "axes[0].plot(env.t, agent.mu_y, c=\"#00688B\", ls=\"--\", lw=1.5, label=\"mu_y\")\n",
    "\n",
    "# Middle plot\n",
    "axes[1].plot(t, agent.e_y, c=\"#00688B\", label=\"e_y\")\n",
    "axes[1].plot(t, agent.e_x, c=\"#68228B\", label=\"e_x\")\n",
    "\n",
    "# Left plot\n",
    "axes[2].plot(t, agent.vfe, c=\"#458B00\", label=\"VFE\")\n",
    "\n",
    "# Plot labels\n",
    "fig.supxlabel(\"Time\", fontsize=18)\n",
    "\n",
    "# Subplot legends\n",
    "axes[0].legend(frameon=True, fontsize=18, ncol=2)\n",
    "axes[1].legend(frameon=True, fontsize=18)\n",
    "axes[2].legend(frameon=True, fontsize=18)\n",
    "\n",
    "# Cosmetic changes and axes ranges\n",
    "for ax in axes.reshape(-1):\n",
    "    ax.axes.grid(which=\"major\", axis=\"both\", c=\"#f2f2f2\")\n",
    "    plt.setp(ax.spines.values(), color=\"black\", linewidth=0.5)\n",
    "    ax.tick_params(\n",
    "        labelsize=14,\n",
    "        axis='both',          \n",
    "        which='major',      \n",
    "        bottom=True,\n",
    "        left=True,\n",
    "        color=\"black\",\n",
    "        width=0.5,\n",
    "        length=3)\n",
    "\n",
    "fig.tight_layout()"
   ]
  },
  {
   "cell_type": "code",
   "execution_count": null,
   "metadata": {},
   "outputs": [],
   "source": []
  }
 ],
 "metadata": {
  "kernelspec": {
   "display_name": "ds_env_1",
   "language": "python",
   "name": "python3"
  },
  "language_info": {
   "codemirror_mode": {
    "name": "ipython",
    "version": 3
   },
   "file_extension": ".py",
   "mimetype": "text/x-python",
   "name": "python",
   "nbconvert_exporter": "python",
   "pygments_lexer": "ipython3",
   "version": "3.9.7"
  }
 },
 "nbformat": 4,
 "nbformat_minor": 2
}
